{
 "cells": [
  {
   "cell_type": "code",
   "execution_count": 1,
   "id": "22ef3bd7",
   "metadata": {},
   "outputs": [],
   "source": [
    "##################################################################\n",
    "#《Python机器学习及实践：从零开始通往Kaggle竞赛之路（2023年度版）》开源代码\n",
    "#-----------------------------------------------------------------\n",
    "#                 @章节号：2.4（Jupyter Notebook使用简介）                           \n",
    "#                 @作者：范淼                                      \n",
    "#                 @电子邮箱：fanmiao.cslt.thu@gmail.com             \n",
    "#                 @微博：https://weibo.com/fanmiaothu             \n",
    "#                 @官方交流QQ群号：561500762                        \n",
    "##################################################################"
   ]
  },
  {
   "cell_type": "code",
   "execution_count": 2,
   "id": "3ecd81fe",
   "metadata": {
    "scrolled": true
   },
   "outputs": [
    {
     "name": "stdout",
     "output_type": "stream",
     "text": [
      "感谢您购阅《Python机器学习及实践：从零开始通往Kaggle竞赛之路》!\n"
     ]
    }
   ],
   "source": [
    "print('感谢您购阅《Python机器学习及实践：从零开始通往Kaggle竞赛之路》!')"
   ]
  },
  {
   "cell_type": "code",
   "execution_count": null,
   "id": "e1d1f8f4",
   "metadata": {},
   "outputs": [],
   "source": []
  }
 ],
 "metadata": {
  "kernelspec": {
   "display_name": "Python 3",
   "language": "python",
   "name": "python3"
  },
  "language_info": {
   "codemirror_mode": {
    "name": "ipython",
    "version": 3
   },
   "file_extension": ".py",
   "mimetype": "text/x-python",
   "name": "python",
   "nbconvert_exporter": "python",
   "pygments_lexer": "ipython3",
   "version": "3.8.8"
  }
 },
 "nbformat": 4,
 "nbformat_minor": 5
}
