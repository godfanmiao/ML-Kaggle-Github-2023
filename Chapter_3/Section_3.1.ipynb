{
 "cells": [
  {
   "cell_type": "code",
   "execution_count": 1,
   "id": "d807195f",
   "metadata": {},
   "outputs": [],
   "source": [
    "##################################################################\n",
    "#《Python机器学习及实践：从零开始通往Kaggle竞赛之路（2023年度版）》开源代码\n",
    "#-----------------------------------------------------------------\n",
    "#                 @章节号：3.1（Python环境配置）                           \n",
    "#                 @作者：范淼                                      \n",
    "#                 @电子邮箱：fanmiao.cslt.thu@gmail.com             \n",
    "#                 @微博：https://weibo.com/fanmiaothu             \n",
    "#                 @官方交流QQ群号：561500762                        \n",
    "##################################################################"
   ]
  },
  {
   "cell_type": "code",
   "execution_count": 2,
   "id": "9f43d341",
   "metadata": {},
   "outputs": [],
   "source": [
    "#在终端/命令行提示符中，依次输入如下指令，配置用于运行本章代码的编程环境。\n",
    "\n",
    "#1) 创建虚拟环境python_env，并使用Python 3.8解释器：conda create -n python_env python=3.8\n",
    "\n",
    "#2) 切换到虚拟环境python_env：conda activate python_env\n",
    "\n",
    "#3) 在虚拟环境python_env中安装Jupyter Notebook：conda install notebook\n",
    "\n",
    "#4) 启动Jupyter Notebook：jupyter notebook"
   ]
  },
  {
   "cell_type": "code",
   "execution_count": 3,
   "id": "9017fb72",
   "metadata": {},
   "outputs": [
    {
     "name": "stdout",
     "output_type": "stream",
     "text": [
      "Hello ML-Kaggle!\n"
     ]
    }
   ],
   "source": [
    "#在Jupyter Notebook中试运行如下Python3代码。\n",
    "print(\"Hello ML-Kaggle!\")"
   ]
  }
 ],
 "metadata": {
  "kernelspec": {
   "display_name": "Python 3 (ipykernel)",
   "language": "python",
   "name": "python3"
  },
  "language_info": {
   "codemirror_mode": {
    "name": "ipython",
    "version": 3
   },
   "file_extension": ".py",
   "mimetype": "text/x-python",
   "name": "python",
   "nbconvert_exporter": "python",
   "pygments_lexer": "ipython3",
   "version": "3.8.12"
  }
 },
 "nbformat": 4,
 "nbformat_minor": 5
}
