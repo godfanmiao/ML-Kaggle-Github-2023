{
 "cells": [
  {
   "cell_type": "code",
   "execution_count": 1,
   "id": "5b829106",
   "metadata": {},
   "outputs": [],
   "source": [
    "##################################################################\n",
    "#《Python机器学习及实践：从零开始通往Kaggle竞赛之路（2023年度版）》开源代码\n",
    "#-----------------------------------------------------------------\n",
    "#                 @章节号：7.4.2.1（分布式线性回归模型）                           \n",
    "#                 @作者：范淼                                      \n",
    "#                 @电子邮箱：fanmiao.cslt.thu@gmail.com             \n",
    "#                 @微博：https://weibo.com/fanmiaothu             \n",
    "#                 @官方交流QQ群号：561500762                        \n",
    "##################################################################"
   ]
  },
  {
   "cell_type": "code",
   "execution_count": 2,
   "id": "96d598eb",
   "metadata": {},
   "outputs": [
    {
     "name": "stderr",
     "output_type": "stream",
     "text": [
      "21/12/15 11:22:21 WARN Utils: Your hostname, michael-fandeMacBook-Air.local resolves to a loopback address: 127.0.0.1; using 172.24.206.69 instead (on interface en0)\n",
      "21/12/15 11:22:21 WARN Utils: Set SPARK_LOCAL_IP if you need to bind to another address\n",
      "21/12/15 11:22:22 WARN NativeCodeLoader: Unable to load native-hadoop library for your platform... using builtin-java classes where applicable\n",
      "Using Spark's default log4j profile: org/apache/spark/log4j-defaults.properties\n",
      "Setting default log level to \"WARN\".\n",
      "To adjust logging level use sc.setLogLevel(newLevel). For SparkR, use setLogLevel(newLevel).\n",
      "                                                                                \r"
     ]
    }
   ],
   "source": [
    "from pyspark.sql import SparkSession\n",
    "import pyspark.sql.functions as func\n",
    "\n",
    "\n",
    "#创建SparkSession。\n",
    "spark = SparkSession.builder.getOrCreate()\n",
    "\n",
    "#读取文件并存储到DataFrame中。\n",
    "df = spark.read.csv('../Datasets/bike_rental/bike_rental.csv', header=True)"
   ]
  },
  {
   "cell_type": "code",
   "execution_count": 3,
   "id": "9bd6c302",
   "metadata": {},
   "outputs": [
    {
     "data": {
      "text/plain": [
       "DataFrame[season: string, yr: string, mnth: string, hr: string, holiday: string, weekday: string, workingday: string, weathersit: string, temp: string, atemp: string, hum: string, windspeed: string, casual: string, registered: string, cnt: string]"
      ]
     },
     "execution_count": 3,
     "metadata": {},
     "output_type": "execute_result"
    }
   ],
   "source": [
    "df = df.select([c for c in df.columns if c not in ['instant','dteday']])\n",
    "\n",
    "df"
   ]
  },
  {
   "cell_type": "code",
   "execution_count": 4,
   "id": "bb7dd6b5",
   "metadata": {},
   "outputs": [
    {
     "name": "stdout",
     "output_type": "stream",
     "text": [
      "+------+---+----+---+-------+-------+----------+----------+----+------+----+---------+------+----------+---+\n",
      "|season| yr|mnth| hr|holiday|weekday|workingday|weathersit|temp| atemp| hum|windspeed|casual|registered|cnt|\n",
      "+------+---+----+---+-------+-------+----------+----------+----+------+----+---------+------+----------+---+\n",
      "|     1|  0|   1|  0|      0|      6|         0|         1|0.24|0.2879|0.81|        0|     3|        13| 16|\n",
      "|     1|  0|   1|  1|      0|      6|         0|         1|0.22|0.2727| 0.8|        0|     8|        32| 40|\n",
      "|     1|  0|   1|  2|      0|      6|         0|         1|0.22|0.2727| 0.8|        0|     5|        27| 32|\n",
      "|     1|  0|   1|  3|      0|      6|         0|         1|0.24|0.2879|0.75|        0|     3|        10| 13|\n",
      "|     1|  0|   1|  4|      0|      6|         0|         1|0.24|0.2879|0.75|        0|     0|         1|  1|\n",
      "+------+---+----+---+-------+-------+----------+----------+----+------+----+---------+------+----------+---+\n",
      "only showing top 5 rows\n",
      "\n"
     ]
    }
   ],
   "source": [
    "df.show(5)"
   ]
  },
  {
   "cell_type": "code",
   "execution_count": 5,
   "id": "56719f91",
   "metadata": {},
   "outputs": [
    {
     "data": {
      "text/plain": [
       "DataFrame[season: int, yr: int, mnth: int, hr: int, holiday: int, weekday: int, workingday: int, weathersit: int, temp: float, atemp: float, hum: float, windspeed: float, casual: string, registered: float, cnt: float]"
      ]
     },
     "execution_count": 5,
     "metadata": {},
     "output_type": "execute_result"
    }
   ],
   "source": [
    "from pyspark.sql.functions import col\n",
    "\n",
    "\n",
    "cate_cols = ['season', 'yr', 'mnth', 'hr', 'holiday', 'weekday', 'workingday', 'weathersit']\n",
    "num_cols = ['temp', 'atemp', 'hum', 'windspeed', 'registered']\n",
    "\n",
    "for column in cate_cols:\n",
    "    df = df.withColumn(column, col(column).cast('int'))\n",
    "\n",
    "for column in num_cols:\n",
    "    df = df.withColumn(column, col(column).cast('float'))\n",
    "\n",
    "df = df.withColumn('cnt', col('cnt').cast('float'))\n",
    "\n",
    "df"
   ]
  },
  {
   "cell_type": "code",
   "execution_count": 6,
   "id": "dc835b3d",
   "metadata": {},
   "outputs": [
    {
     "name": "stdout",
     "output_type": "stream",
     "text": [
      "+------+---+----+---+-------+-------+----------+----------+----+------+----+---------+------+----------+----+\n",
      "|season| yr|mnth| hr|holiday|weekday|workingday|weathersit|temp| atemp| hum|windspeed|casual|registered| cnt|\n",
      "+------+---+----+---+-------+-------+----------+----------+----+------+----+---------+------+----------+----+\n",
      "|     1|  0|   1|  0|      0|      6|         0|         1|0.24|0.2879|0.81|      0.0|     3|      13.0|16.0|\n",
      "|     1|  0|   1|  1|      0|      6|         0|         1|0.22|0.2727| 0.8|      0.0|     8|      32.0|40.0|\n",
      "|     1|  0|   1|  2|      0|      6|         0|         1|0.22|0.2727| 0.8|      0.0|     5|      27.0|32.0|\n",
      "|     1|  0|   1|  3|      0|      6|         0|         1|0.24|0.2879|0.75|      0.0|     3|      10.0|13.0|\n",
      "|     1|  0|   1|  4|      0|      6|         0|         1|0.24|0.2879|0.75|      0.0|     0|       1.0| 1.0|\n",
      "+------+---+----+---+-------+-------+----------+----------+----+------+----+---------+------+----------+----+\n",
      "only showing top 5 rows\n",
      "\n"
     ]
    }
   ],
   "source": [
    "df.show(5)\n",
    "\n",
    "#分割出训练和测试集。\n",
    "(train_df, test_df) = df.randomSplit([0.8, 0.2], seed=911120)"
   ]
  },
  {
   "cell_type": "code",
   "execution_count": 7,
   "id": "731e5022",
   "metadata": {},
   "outputs": [
    {
     "name": "stderr",
     "output_type": "stream",
     "text": [
      "21/12/15 11:22:37 WARN package: Truncated the string representation of a plan since it was too large. This behavior can be adjusted by setting 'spark.sql.debug.maxToStringFields'.\n",
      "                                                                                \r"
     ]
    },
    {
     "name": "stdout",
     "output_type": "stream",
     "text": [
      "+------+---+----+---+-------+-------+----------+----------+----+------+----+---------+------+----------+----+-------------+--------------+-------------+--------------+-------------+-------------+-------------+-------------+--------------------+--------------------+------------------+\n",
      "|season| yr|mnth| hr|holiday|weekday|workingday|weathersit|temp| atemp| hum|windspeed|casual|registered| cnt| weathersit_c|          hr_c|    holiday_c|        mnth_c|     season_c|    weekday_c|         yr_c| workingday_c|            features|     scaled_features|        prediction|\n",
      "+------+---+----+---+-------+-------+----------+----------+----+------+----+---------+------+----------+----+-------------+--------------+-------------+--------------+-------------+-------------+-------------+-------------+--------------------+--------------------+------------------+\n",
      "|     1|  0|   1|  0|      0|      0|         0|         1| 0.1|0.0758|0.42|   0.3881|     1|      24.0|25.0|(4,[1],[1.0])|(23,[0],[1.0])|(1,[0],[1.0])|(12,[1],[1.0])|(4,[1],[1.0])|(6,[0],[1.0])|(1,[0],[1.0])|(1,[0],[1.0])|(57,[0,1,2,3,4,6,...|(57,[0,1,2,3,4,6,...|28.869900771775082|\n",
      "|     1|  0|   1|  0|      0|      3|         1|         2|0.22|0.2273|0.69|   0.1343|     3|      14.0|17.0|(4,[2],[1.0])|(23,[0],[1.0])|(1,[0],[1.0])|(12,[1],[1.0])|(4,[1],[1.0])|(6,[3],[1.0])|(1,[0],[1.0])|    (1,[],[])|(57,[0,1,2,3,4,6,...|(57,[0,1,2,3,4,6,...|15.307125307125308|\n",
      "|     1|  0|   1|  0|      0|      4|         1|         1|0.26|0.2273|0.56|   0.3881|     5|       8.0|13.0|(4,[1],[1.0])|(23,[0],[1.0])|(1,[0],[1.0])|(12,[1],[1.0])|(4,[1],[1.0])|(6,[4],[1.0])|(1,[0],[1.0])|    (1,[],[])|(57,[0,1,2,3,4,6,...|(57,[0,1,2,3,4,6,...| 5.618518518518519|\n",
      "|     1|  0|   1|  0|      0|      5|         1|         2| 0.2|0.2121|0.75|   0.1343|     0|       9.0| 9.0|(4,[2],[1.0])|(23,[0],[1.0])|(1,[0],[1.0])|(12,[1],[1.0])|(4,[1],[1.0])|(6,[5],[1.0])|(1,[0],[1.0])|    (1,[],[])|(57,[0,1,2,3,4,6,...|(57,[0,1,2,3,4,6,...|15.307125307125308|\n",
      "|     1|  0|   1|  1|      0|      0|         0|         1|0.04|0.0758|0.57|   0.1045|     1|      12.0|13.0|(4,[1],[1.0])|(23,[1],[1.0])|(1,[0],[1.0])|(12,[1],[1.0])|(4,[1],[1.0])|(6,[0],[1.0])|(1,[0],[1.0])|(1,[0],[1.0])|(57,[0,1,2,3,4,6,...|(57,[0,1,2,3,4,6,...|15.307125307125308|\n",
      "+------+---+----+---+-------+-------+----------+----------+----+------+----+---------+------+----------+----+-------------+--------------+-------------+--------------+-------------+-------------+-------------+-------------+--------------------+--------------------+------------------+\n",
      "only showing top 5 rows\n",
      "\n"
     ]
    }
   ],
   "source": [
    "from pyspark.ml.feature import OneHotEncoder, VectorAssembler, StandardScaler\n",
    "from pyspark.ml.regression import LinearRegression, DecisionTreeRegressor\n",
    "from pyspark.ml import Pipeline\n",
    "\n",
    "\n",
    "enc_cols = [c+'_c' for c in cate_cols]\n",
    "\n",
    "ohe = OneHotEncoder(inputCols= cate_cols, outputCols=enc_cols)\n",
    "\n",
    "va = VectorAssembler(inputCols = num_cols+enc_cols, outputCol= 'features')\n",
    "\n",
    "scaler = StandardScaler(inputCol='features', outputCol='scaled_features')\n",
    "\n",
    "regressor = DecisionTreeRegressor(featuresCol='scaled_features', labelCol='cnt')\n",
    "\n",
    "pipeline = Pipeline(stages=[ohe, va, scaler, regressor])\n",
    "\n",
    "model = pipeline.fit(train_df)\n",
    "\n",
    "predictions = model.transform(test_df)"
   ]
  },
  {
   "cell_type": "code",
   "execution_count": 8,
   "id": "040fe818",
   "metadata": {},
   "outputs": [
    {
     "name": "stdout",
     "output_type": "stream",
     "text": [
      "Spark-ML的分布式线性回归模型在bike_rental测试集上的均方根误差为：33.49。\n"
     ]
    }
   ],
   "source": [
    "from pyspark.ml.evaluation import RegressionEvaluator\n",
    "\n",
    "\n",
    "evaluator = RegressionEvaluator(labelCol=\"cnt\", predictionCol=\"prediction\", metricName=\"rmse\")\n",
    "\n",
    "rmse = evaluator.evaluate(predictions)\n",
    "\n",
    "#评估回归器的均方根误差。\n",
    "print ('Spark-ML的分布式线性回归模型在bike_rental测试集上的均方根误差为：%.2f。' %(rmse))"
   ]
  }
 ],
 "metadata": {
  "kernelspec": {
   "display_name": "Python 3 (ipykernel)",
   "language": "python",
   "name": "python3"
  },
  "language_info": {
   "codemirror_mode": {
    "name": "ipython",
    "version": 3
   },
   "file_extension": ".py",
   "mimetype": "text/x-python",
   "name": "python",
   "nbconvert_exporter": "python",
   "pygments_lexer": "ipython3",
   "version": "3.8.12"
  }
 },
 "nbformat": 4,
 "nbformat_minor": 5
}
